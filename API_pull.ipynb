{
 "cells": [
  {
   "cell_type": "code",
   "execution_count": 3,
   "id": "2f656b21",
   "metadata": {},
   "outputs": [],
   "source": [
    "import pandas as pd\n",
    "import os\n",
    "import json\n",
    "import requests"
   ]
  },
  {
   "cell_type": "code",
   "execution_count": 15,
   "id": "e705937f",
   "metadata": {},
   "outputs": [],
   "source": [
    "# Save config information\n",
    "war_url = \"https://esi.evetech.net/latest/wars/?datasource=tranquility$top=1000\"\n",
    "\n",
    "# Build query URL\n",
    "query_url = war_url"
   ]
  },
  {
   "cell_type": "code",
   "execution_count": 16,
   "id": "f09eb63a",
   "metadata": {},
   "outputs": [],
   "source": [
    "# Get weather data\n",
    "wars_response = requests.get(query_url)\n",
    "wars_json = wars_response.json()"
   ]
  },
  {
   "cell_type": "code",
   "execution_count": 17,
   "id": "d7c31a17",
   "metadata": {},
   "outputs": [
    {
     "name": "stdout",
     "output_type": "stream",
     "text": [
      "{'error': 'unknown datasource requested'}\n"
     ]
    }
   ],
   "source": [
    "# Get the temperature from the response\n",
    "print(wars_json)"
   ]
  },
  {
   "cell_type": "code",
   "execution_count": 10,
   "id": "6d787961",
   "metadata": {},
   "outputs": [
    {
     "ename": "NameError",
     "evalue": "name 'war_id' is not defined",
     "output_type": "error",
     "traceback": [
      "\u001b[1;31m---------------------------------------------------------------------------\u001b[0m",
      "\u001b[1;31mNameError\u001b[0m                                 Traceback (most recent call last)",
      "\u001b[1;32m~\\AppData\\Local\\Temp\\ipykernel_21224\\2956832709.py\u001b[0m in \u001b[0;36m<module>\u001b[1;34m\u001b[0m\n\u001b[1;32m----> 1\u001b[1;33m \u001b[0mwar_data_url\u001b[0m \u001b[1;33m=\u001b[0m \u001b[1;34mf\"https://esi.evetech.net/latest/wars/{war_id}/?datasource=tranquility\"\u001b[0m\u001b[1;33m\u001b[0m\u001b[1;33m\u001b[0m\u001b[0m\n\u001b[0m",
      "\u001b[1;31mNameError\u001b[0m: name 'war_id' is not defined"
     ]
    }
   ],
   "source": [
    "for war in wars_json:\n",
    "    war_id = war\n",
    "    war_data_url = f\"https://esi.evetech.net/latest/wars/{war_id}/?datasource=tranquility\"\n",
    "    war_data_response = requests.get(war_data_url)\n",
    "    war_data_json = war_data_response.json()"
   ]
  },
  {
   "cell_type": "code",
   "execution_count": null,
   "id": "55dc6196",
   "metadata": {},
   "outputs": [],
   "source": []
  }
 ],
 "metadata": {
  "kernelspec": {
   "display_name": "PythonData",
   "language": "python",
   "name": "pythondata"
  },
  "language_info": {
   "codemirror_mode": {
    "name": "ipython",
    "version": 3
   },
   "file_extension": ".py",
   "mimetype": "text/x-python",
   "name": "python",
   "nbconvert_exporter": "python",
   "pygments_lexer": "ipython3",
   "version": "3.7.7"
  }
 },
 "nbformat": 4,
 "nbformat_minor": 5
}
